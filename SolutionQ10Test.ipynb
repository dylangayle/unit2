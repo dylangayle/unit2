{
  "nbformat": 4,
  "nbformat_minor": 0,
  "metadata": {
    "colab": {
      "name": "SolutionQ10Test",
      "provenance": [],
      "authorship_tag": "ABX9TyPDQxYIsENaOUXpXZXpL3M4",
      "include_colab_link": true
    },
    "kernelspec": {
      "name": "python3",
      "display_name": "Python 3"
    }
  },
  "cells": [
    {
      "cell_type": "markdown",
      "metadata": {
        "id": "view-in-github",
        "colab_type": "text"
      },
      "source": [
        "<a href=\"https://colab.research.google.com/github/dylangayle/unit2/blob/main/SolutionQ10Test.ipynb\" target=\"_parent\"><img src=\"https://colab.research.google.com/assets/colab-badge.svg\" alt=\"Open In Colab\"/></a>"
      ]
    },
    {
      "cell_type": "markdown",
      "metadata": {
        "id": "_HnKJFacewgc"
      },
      "source": [
        "# Solution to Test, question 10\n"
      ]
    },
    {
      "cell_type": "code",
      "metadata": {
        "colab": {
          "base_uri": "https://localhost:8080/"
        },
        "id": "yI8eVMurelDS",
        "outputId": "c480ecb1-0e63-41bc-f9ef-b4a78a0a5104"
      },
      "source": [
        "Unit_price = [10.1, 12.0]\n",
        "product_id = [\"apple\", \"android\"]\n",
        "\n",
        "sum = 0.0\n",
        "for i in range(len(Unit_price)):\n",
        "  sum = sum + Unit_price[i]\n",
        "\n",
        "average = sum / len(Unit_price)\n",
        "print(f\"The average price is {average}\")"
      ],
      "execution_count": 3,
      "outputs": [
        {
          "output_type": "stream",
          "text": [
            "The average price is 11.05\n"
          ],
          "name": "stdout"
        }
      ]
    }
  ]
}